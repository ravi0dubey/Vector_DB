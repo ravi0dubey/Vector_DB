{
 "cells": [
  {
   "cell_type": "code",
   "execution_count": 1,
   "id": "13eccd96",
   "metadata": {},
   "outputs": [],
   "source": [
    "import sqlite3\n",
    "import numpy as np"
   ]
  },
  {
   "cell_type": "code",
   "execution_count": 2,
   "id": "9575629d",
   "metadata": {},
   "outputs": [],
   "source": [
    "# create a connection to the SQLite DB\n",
    "conn= sqlite3.connect('vector-db.db')\n",
    "# create a cursor object to execute SQL commands\n",
    "cursor = conn.cursor()"
   ]
  },
  {
   "cell_type": "code",
   "execution_count": 3,
   "id": "d02d9d8c",
   "metadata": {},
   "outputs": [
    {
     "data": {
      "text/plain": [
       "<sqlite3.Connection at 0x1941238a300>"
      ]
     },
     "execution_count": 3,
     "metadata": {},
     "output_type": "execute_result"
    }
   ],
   "source": [
    "conn"
   ]
  },
  {
   "cell_type": "code",
   "execution_count": 4,
   "id": "bf4cfbb4",
   "metadata": {},
   "outputs": [
    {
     "data": {
      "text/plain": [
       "<sqlite3.Cursor at 0x194123828f0>"
      ]
     },
     "execution_count": 4,
     "metadata": {},
     "output_type": "execute_result"
    }
   ],
   "source": [
    "cursor"
   ]
  },
  {
   "cell_type": "code",
   "execution_count": 5,
   "id": "27ae8f03",
   "metadata": {},
   "outputs": [],
   "source": [
    "# # Create a table\n",
    "# cursor.execute(\n",
    "# \"\"\"\n",
    "# CREATE TABLE IF NOT EXISTS employees(\n",
    "#     id INTEGER PRIMARY KEY,\n",
    "#     name TEXT NOT NULL,\n",
    "#     age INTEGER,\n",
    "#     department TEXT)\n",
    "# \"\"\"\n",
    "# )\n",
    "\n",
    "# # insert data into table\n",
    "# cursor.execute(\n",
    "# \"\"\"\n",
    "# INSERT INTO employees(name,age,department) VALUES('Ravi Dubey', 41,'Data Science')\n",
    "# \"\"\"\n",
    "# )\n",
    "\n",
    "## retrieve data\n",
    "# cursor.execute(\"SELECT * FROM employees\")\n",
    "# rows= cursor.fetchall()\n",
    "# rows"
   ]
  },
  {
   "cell_type": "code",
   "execution_count": 6,
   "id": "abd57e7f",
   "metadata": {},
   "outputs": [
    {
     "data": {
      "text/plain": [
       "<sqlite3.Cursor at 0x194123828f0>"
      ]
     },
     "execution_count": 6,
     "metadata": {},
     "output_type": "execute_result"
    }
   ],
   "source": [
    "# Create a table for vector data\n",
    "cursor.execute(\n",
    "\"\"\"\n",
    "CREATE TABLE IF NOT EXISTS vectors(\n",
    "    id INTEGER PRIMARY KEY,\n",
    "    vector BLOB NOT NULL)   \n",
    "\"\"\"\n",
    ")"
   ]
  },
  {
   "cell_type": "code",
   "execution_count": 7,
   "id": "5764f6b5",
   "metadata": {},
   "outputs": [],
   "source": [
    "#generate some sample vectors\n",
    "\n",
    "vect1 = np.array([1.2,3.4,2.1,0.8])\n",
    "vect2 = np.array([2.7,1.5,3.9,2.3])\n",
    "vect3 = np.array([5.7,5.5,4.9,2.3])"
   ]
  },
  {
   "cell_type": "code",
   "execution_count": 8,
   "id": "2fa3a8a5",
   "metadata": {},
   "outputs": [
    {
     "data": {
      "text/plain": [
       "array([1.2, 3.4, 2.1, 0.8])"
      ]
     },
     "execution_count": 8,
     "metadata": {},
     "output_type": "execute_result"
    }
   ],
   "source": [
    "vect1"
   ]
  },
  {
   "cell_type": "code",
   "execution_count": 9,
   "id": "e165f393",
   "metadata": {},
   "outputs": [
    {
     "data": {
      "text/plain": [
       "b'333333\\xf3?333333\\x0b@\\xcd\\xcc\\xcc\\xcc\\xcc\\xcc\\x00@\\x9a\\x99\\x99\\x99\\x99\\x99\\xe9?'"
      ]
     },
     "execution_count": 9,
     "metadata": {},
     "output_type": "execute_result"
    }
   ],
   "source": [
    "vect1.tobytes()"
   ]
  },
  {
   "cell_type": "code",
   "execution_count": 10,
   "id": "5f1cc71c",
   "metadata": {},
   "outputs": [
    {
     "data": {
      "text/plain": [
       "<memory at 0x000001941233FA00>"
      ]
     },
     "execution_count": 10,
     "metadata": {},
     "output_type": "execute_result"
    }
   ],
   "source": [
    "sqlite3.Binary(vect1.tobytes())"
   ]
  },
  {
   "cell_type": "code",
   "execution_count": 11,
   "id": "a9cc9ef0",
   "metadata": {},
   "outputs": [
    {
     "data": {
      "text/plain": [
       "<sqlite3.Cursor at 0x194123828f0>"
      ]
     },
     "execution_count": 11,
     "metadata": {},
     "output_type": "execute_result"
    }
   ],
   "source": [
    "# insert data into vector table\n",
    "cursor.execute(\n",
    "\"INSERT INTO vectors(vector) VALUES(?)\",(sqlite3.Binary(vect1.tobytes()),)  \n",
    ")"
   ]
  },
  {
   "cell_type": "code",
   "execution_count": 12,
   "id": "ff8123d4",
   "metadata": {},
   "outputs": [
    {
     "data": {
      "text/plain": [
       "<sqlite3.Cursor at 0x194123828f0>"
      ]
     },
     "execution_count": 12,
     "metadata": {},
     "output_type": "execute_result"
    }
   ],
   "source": [
    "# insert data into vector table\n",
    "cursor.execute(\n",
    "\"INSERT INTO vectors(vector) VALUES(?)\",(sqlite3.Binary(vect2.tobytes()),)  \n",
    ")"
   ]
  },
  {
   "cell_type": "code",
   "execution_count": 13,
   "id": "a1311885",
   "metadata": {},
   "outputs": [
    {
     "data": {
      "text/plain": [
       "<sqlite3.Cursor at 0x194123828f0>"
      ]
     },
     "execution_count": 13,
     "metadata": {},
     "output_type": "execute_result"
    }
   ],
   "source": [
    "# insert data into vector table\n",
    "cursor.execute(\n",
    "\"INSERT INTO vectors(vector) VALUES(?)\",(sqlite3.Binary(vect3.tobytes()),)  \n",
    ")"
   ]
  },
  {
   "cell_type": "code",
   "execution_count": 14,
   "id": "cb63fda5",
   "metadata": {},
   "outputs": [
    {
     "data": {
      "text/plain": [
       "<sqlite3.Cursor at 0x194123828f0>"
      ]
     },
     "execution_count": 14,
     "metadata": {},
     "output_type": "execute_result"
    }
   ],
   "source": [
    "# retrieve vector from vectors database\n",
    "cursor.execute(\"SELECT vector FROM vectors\")"
   ]
  },
  {
   "cell_type": "code",
   "execution_count": 15,
   "id": "f0c61847",
   "metadata": {},
   "outputs": [
    {
     "data": {
      "text/plain": [
       "[(b'333333\\xf3?333333\\x0b@\\xcd\\xcc\\xcc\\xcc\\xcc\\xcc\\x00@\\x9a\\x99\\x99\\x99\\x99\\x99\\xe9?',),\n",
       " (b'\\x9a\\x99\\x99\\x99\\x99\\x99\\x05@\\x00\\x00\\x00\\x00\\x00\\x00\\xf8?333333\\x0f@ffffff\\x02@',),\n",
       " (b'333333\\xf3?333333\\x0b@\\xcd\\xcc\\xcc\\xcc\\xcc\\xcc\\x00@\\x9a\\x99\\x99\\x99\\x99\\x99\\xe9?',),\n",
       " (b'\\x9a\\x99\\x99\\x99\\x99\\x99\\x05@\\x00\\x00\\x00\\x00\\x00\\x00\\xf8?333333\\x0f@ffffff\\x02@',),\n",
       " (b'333333\\xf3?333333\\x0b@\\xcd\\xcc\\xcc\\xcc\\xcc\\xcc\\x00@\\x9a\\x99\\x99\\x99\\x99\\x99\\xe9?',),\n",
       " (b'\\x9a\\x99\\x99\\x99\\x99\\x99\\x05@\\x00\\x00\\x00\\x00\\x00\\x00\\xf8?333333\\x0f@ffffff\\x02@',),\n",
       " (b'\\xcd\\xcc\\xcc\\xcc\\xcc\\xcc\\x16@\\x00\\x00\\x00\\x00\\x00\\x00\\x16@\\x9a\\x99\\x99\\x99\\x99\\x99\\x13@ffffff\\x02@',)]"
      ]
     },
     "execution_count": 15,
     "metadata": {},
     "output_type": "execute_result"
    }
   ],
   "source": [
    "# fetching all rows \n",
    "rows= cursor.fetchall()\n",
    "rows"
   ]
  },
  {
   "cell_type": "code",
   "execution_count": 16,
   "id": "7e5b1bf9",
   "metadata": {},
   "outputs": [],
   "source": [
    "# converting rows value from vectors type to  float\n",
    "vector = np.frombuffer(rows[0][0], dtype = np.float64)"
   ]
  },
  {
   "cell_type": "code",
   "execution_count": 17,
   "id": "ffe05bdc",
   "metadata": {},
   "outputs": [
    {
     "data": {
      "text/plain": [
       "array([1.2, 3.4, 2.1, 0.8])"
      ]
     },
     "execution_count": 17,
     "metadata": {},
     "output_type": "execute_result"
    }
   ],
   "source": [
    "# printing the values of vector\n",
    "vector"
   ]
  },
  {
   "cell_type": "code",
   "execution_count": 18,
   "id": "89a21cf2",
   "metadata": {},
   "outputs": [
    {
     "data": {
      "text/plain": [
       "[array([1.2, 3.4, 2.1, 0.8]),\n",
       " array([2.7, 1.5, 3.9, 2.3]),\n",
       " array([1.2, 3.4, 2.1, 0.8]),\n",
       " array([2.7, 1.5, 3.9, 2.3]),\n",
       " array([1.2, 3.4, 2.1, 0.8]),\n",
       " array([2.7, 1.5, 3.9, 2.3]),\n",
       " array([5.7, 5.5, 4.9, 2.3])]"
      ]
     },
     "execution_count": 18,
     "metadata": {},
     "output_type": "execute_result"
    }
   ],
   "source": [
    "# creating a for loop and storing all vectors value at once and displaying them\n",
    "vectors = []\n",
    "for row in rows:\n",
    "    vector = np.frombuffer(row[0],dtype=np.float64)\n",
    "    vectors.append(vector)\n",
    "    \n",
    "vectors"
   ]
  },
  {
   "cell_type": "markdown",
   "id": "deaa4ec7",
   "metadata": {},
   "source": [
    "# Vector Similarity Search"
   ]
  },
  {
   "cell_type": "code",
   "execution_count": 19,
   "id": "c293d0ea",
   "metadata": {},
   "outputs": [],
   "source": [
    "# we need to check valuers in query_vect is closest to which vector\n",
    "query_vect = np.array([5.7,5.5,4.9,2.3])"
   ]
  },
  {
   "cell_type": "code",
   "execution_count": 20,
   "id": "cae03619",
   "metadata": {},
   "outputs": [
    {
     "data": {
      "text/plain": [
       "<sqlite3.Cursor at 0x194123828f0>"
      ]
     },
     "execution_count": 20,
     "metadata": {},
     "output_type": "execute_result"
    }
   ],
   "source": [
    "cursor.execute(\n",
    "\"\"\"\n",
    "SELECT vector FROM vectors ORDER BY abs(vector -?) ASC\n",
    "\"\"\",(sqlite3.Binary(vect2.tobytes()),)\n",
    ")"
   ]
  },
  {
   "cell_type": "code",
   "execution_count": 21,
   "id": "ab0eff4e",
   "metadata": {},
   "outputs": [
    {
     "data": {
      "text/plain": [
       "(b'\\x9a\\x99\\x99\\x99\\x99\\x99\\x05@\\x00\\x00\\x00\\x00\\x00\\x00\\xf8?333333\\x0f@ffffff\\x02@',)"
      ]
     },
     "execution_count": 21,
     "metadata": {},
     "output_type": "execute_result"
    }
   ],
   "source": [
    "# fetching all rows \n",
    "res= cursor.fetchone()\n",
    "res"
   ]
  },
  {
   "cell_type": "code",
   "execution_count": 22,
   "id": "553c2df2",
   "metadata": {},
   "outputs": [
    {
     "data": {
      "text/plain": [
       "array([2.7, 1.5, 3.9, 2.3])"
      ]
     },
     "execution_count": 22,
     "metadata": {},
     "output_type": "execute_result"
    }
   ],
   "source": [
    "# converting rows value from vectors type to  float\n",
    "vector = np.frombuffer(res[0], dtype = np.float64)\n",
    "vector"
   ]
  },
  {
   "cell_type": "code",
   "execution_count": 23,
   "id": "b63f5b6a",
   "metadata": {},
   "outputs": [],
   "source": [
    "# conn.commit()"
   ]
  },
  {
   "cell_type": "code",
   "execution_count": 24,
   "id": "a8a0e346",
   "metadata": {},
   "outputs": [],
   "source": [
    "# conn.close()"
   ]
  }
 ],
 "metadata": {
  "kernelspec": {
   "display_name": "Python 3 (ipykernel)",
   "language": "python",
   "name": "python3"
  },
  "language_info": {
   "codemirror_mode": {
    "name": "ipython",
    "version": 3
   },
   "file_extension": ".py",
   "mimetype": "text/x-python",
   "name": "python",
   "nbconvert_exporter": "python",
   "pygments_lexer": "ipython3",
   "version": "3.9.7"
  }
 },
 "nbformat": 4,
 "nbformat_minor": 5
}
